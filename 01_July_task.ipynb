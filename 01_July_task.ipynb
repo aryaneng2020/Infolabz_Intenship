{
 "cells": [
  {
   "cell_type": "code",
   "execution_count": 72,
   "id": "3f6e269b-fe0b-4e67-a279-2e52245a1e3e",
   "metadata": {},
   "outputs": [],
   "source": [
    "import requests\n",
    "import pandas as pd\n",
    "import numpy as np\n",
    "import json\n",
    "\n",
    "#1 covid\n",
    "url1 = requests.get('https://api.covid19india.org/data.json')\n",
    "data = url1.json()\n",
    "\n",
    "#2 mutual funda\n",
    "url2 = requests.get('https://api.mfapi.in/mf')\n",
    "fund = url2.json()\n"
   ]
  },
  {
   "cell_type": "markdown",
   "id": "e21e0a97-3168-4b93-9196-f43dc55c0677",
   "metadata": {},
   "source": [
    "### 1. Allow user to search state name. Print state found or not found. \n"
   ]
  },
  {
   "cell_type": "code",
   "execution_count": 57,
   "id": "13db799f-5662-4470-97fb-07bedbb044e2",
   "metadata": {},
   "outputs": [
    {
     "name": "stdin",
     "output_type": "stream",
     "text": [
      "Enter the state name Which you have to found :  hgjfg\n"
     ]
    },
    {
     "name": "stdout",
     "output_type": "stream",
     "text": [
      "State not Found\n"
     ]
    }
   ],
   "source": [
    "St_name = input(\"Enter the state name Which you have to found : \")\n",
    "\n",
    "for i in range(0,len(data[\"statewise\"])):\n",
    "    if St_name == data[\"statewise\"][i][\"state\"]:\n",
    "        print(\"State Found\")\n",
    "        break\n",
    "else:\n",
    "    print(\"State not Found\")"
   ]
  },
  {
   "cell_type": "markdown",
   "id": "ad298ff5-a8cb-46d2-a72c-dfbefca23127",
   "metadata": {},
   "source": [
    "### 2. Allow user to search date. If date found print new cases, recovered cases and death cases of that date"
   ]
  },
  {
   "cell_type": "code",
   "execution_count": null,
   "id": "710dd3b0-444d-454a-8087-af4667298b25",
   "metadata": {},
   "outputs": [],
   "source": [
    "date = input(\"Enter the Date:\")\n",
    "\n",
    "for i in range(0,len(data[\"cases_time_series\"])):\n",
    "    if date == data[\"cases_time_series\"][i][\"date\"]:\n",
    "        print(\"new cases : \",data['cases_time_series'][i][\"dailyconfirmed\"])\n",
    "        print(\"recovered : \",data['cases_time_series'][i][\"dailyrecovered\"])\n",
    "        print(\"deaths : \",data['cases_time_series'][i][\"dailydeceased\"])\n",
    "        break\n",
    "else:\n",
    "    print(\"date not Found\")"
   ]
  },
  {
   "cell_type": "markdown",
   "id": "f4c58bca-1566-4ec7-a455-d7747ea5bba2",
   "metadata": {},
   "source": [
    "### 3. Print and store state wise data in excel. "
   ]
  },
  {
   "cell_type": "code",
   "execution_count": null,
   "id": "0f20952d-d7c7-481a-93db-528b2400d260",
   "metadata": {},
   "outputs": [],
   "source": [
    "import pandas as pd\n",
    "for j in range(0,len(data['statewise'])):\n",
    "    print(data['statewise'][j])\n",
    "state_wise_data = pd.DataFrame(data['statewise'])\n",
    "state_wise_data.to_csv(\"state_wise_data.csv\")\n"
   ]
  },
  {
   "cell_type": "markdown",
   "id": "e2c9977f-47fd-4749-9240-26357cfa292c",
   "metadata": {},
   "source": [
    "### 4. Print total count of mutual fund. "
   ]
  },
  {
   "cell_type": "code",
   "execution_count": 38,
   "id": "37eecbef-3fbb-4da3-951c-2bc73b49d175",
   "metadata": {},
   "outputs": [
    {
     "name": "stdout",
     "output_type": "stream",
     "text": [
      "Lenth of the Mutual Funds :-  46806\n"
     ]
    }
   ],
   "source": [
    "print(\"Lenth of the Mutual Funds :- \",len(mf))"
   ]
  },
  {
   "cell_type": "markdown",
   "id": "4ee4c76a-a7f7-4061-aaea-1bd579b5a2a5",
   "metadata": {},
   "source": [
    "### 5. Allow user to enter mutual fund code . Print fund name. If not available , print mutual fund not found. "
   ]
  },
  {
   "cell_type": "code",
   "execution_count": 42,
   "id": "9de96a35-bc7d-462d-8503-046be8d39d5d",
   "metadata": {},
   "outputs": [
    {
     "name": "stdin",
     "output_type": "stream",
     "text": [
      "Enter mutual fund code:  100029\n"
     ]
    },
    {
     "name": "stdout",
     "output_type": "stream",
     "text": [
      "Grindlays Super Saver Income Fund-GSSIF-Growth\n"
     ]
    }
   ],
   "source": [
    "code = int(input(\"Enter mutual fund code: \"))\n",
    "found = False\n",
    "for fund in fund:\n",
    "    if fund['schemeCode'] == code:\n",
    "        print(fund['schemeName'])\n",
    "        found = True\n",
    "        break\n",
    "\n",
    "if not found:\n",
    "    print(\"Mutual fund not found\")"
   ]
  },
  {
   "cell_type": "markdown",
   "id": "14922406-8379-4b01-9665-7c0436b41212",
   "metadata": {},
   "source": [
    "### 6.Allow user to enter name of mutual fund, if available then print found and return its fund code. If not, mutual fund not found. \n"
   ]
  },
  {
   "cell_type": "code",
   "execution_count": 67,
   "id": "d7da56f1-61e4-4637-a325-b1cb51932cec",
   "metadata": {},
   "outputs": [
    {
     "name": "stdin",
     "output_type": "stream",
     "text": [
      "Enter mutual fund name:  Grindlays Super Saver Income Fund-GSSIF-Growth\n"
     ]
    },
    {
     "name": "stdout",
     "output_type": "stream",
     "text": [
      "Mutual fund found\n",
      "Fund Code: 100029\n"
     ]
    }
   ],
   "source": [
    "#TASK 6\n",
    "name = input(\"Enter mutual fund name: \")\n",
    "found = False\n",
    "for fund in fund:\n",
    "    if fund['schemeName'] == name:\n",
    "        print(\"Mutual fund found\")\n",
    "        print(\"Fund Code:\", fund['schemeCode'])\n",
    "        found = True\n",
    "        break\n",
    "\n",
    "if not found:\n",
    "    print(\"Mutual fund not found\")"
   ]
  },
  {
   "cell_type": "markdown",
   "id": "9d48b25e-6595-46c6-b69f-46218ae8334a",
   "metadata": {},
   "source": [
    "### 7.Print all spacecrafts using for loop. "
   ]
  },
  {
   "cell_type": "code",
   "execution_count": 74,
   "id": "e90ce2fe-b707-4e4e-babf-13ff22e85a01",
   "metadata": {},
   "outputs": [
    {
     "name": "stdout",
     "output_type": "stream",
     "text": [
      "Aryabhata\n",
      "Bhaskara-I\n",
      "Rohini Technology Payload (RTP)\n",
      "Rohini Satellite RS-1\n",
      "Rohini Satellite RS-D1\n",
      "APPLE\n",
      "Bhaskara-II\n",
      "INSAT-1A\n",
      "Rohini Satellite RS-D2\n",
      "INSAT-1B\n",
      "SROSS-1\n",
      "IRS-1A\n",
      "SROSS-2\n",
      "INSAT-1C\n",
      "INSAT-1D\n",
      "IRS-1B\n",
      "SROSS-C\n",
      "INSAT-2A\n",
      "INSAT-2B\n",
      "IRS-1E\n",
      "SROSS-C2\n",
      "IRS-P2\n",
      "INSAT-2C\n",
      "IRS-1C\n",
      "IRS-P3\n",
      "INSAT-2D\n",
      "IRS-1D\n",
      "INSAT-2E\n",
      "Oceansat(IRS-P4)\n",
      "INSAT-3B\n",
      "GSAT-1\n",
      "The Technology Experiment Satellite (TES)\n",
      "INSAT-3C\n",
      "KALPANA-1\n",
      "INSAT-3A\n",
      "GSAT-2\n",
      "INSAT-3E\n",
      "IRS-P6 / RESOURCESAT-1\n",
      "EDUSAT\n",
      "HAMSAT\n",
      "CARTOSAT-1\n",
      "INSAT-4A\n",
      "INSAT-4C\n",
      "SRE-1\n",
      "CARTOSAT-2\n",
      "INSAT-4B\n",
      "INSAT-4CR\n",
      "CARTOSAT – 2A\n",
      "IMS-1\n",
      "Chandrayaan-1\n",
      "RISAT-2\n",
      "Oceansat-2\n",
      "GSAT-4\n",
      "CARTOSAT-2B\n",
      "GSAT-5P\n",
      "YOUTHSAT\n",
      "RESOURCESAT-2\n",
      "GSAT-8\n",
      "GSAT-12\n",
      "Megha-Tropiques\n",
      "RISAT-1\n",
      "GSAT-10\n",
      "SARAL\n",
      "IRNSS-1A\n",
      "INSAT-3D\n",
      "GSAT-7\n",
      "Mars Orbiter Mission Spacecraft\n",
      "GSAT-14\n",
      "IRNSS-1B\n",
      "IRNSS-1C\n",
      "GSAT-16\n",
      "Crew module Atmospheric Re-entry Experiment (CARE)\n",
      "IRNSS-1D\n",
      "GSAT-6\n",
      "Astrosat\n",
      "GSAT-15\n",
      "IRNSS-1E\n",
      "IRNSS-1F\n",
      "IRNSS-1G\n",
      "CARTOSAT-2 Series Satellite\n",
      "INSAT-3DR\n",
      "SCATSAT-1\n",
      "GSAT-18\n",
      "RESOURCESAT-2A\n",
      "INS-1B\n",
      "INS-1A\n",
      "Cartosat -2 Series Satellite\n",
      "GSAT-9\n",
      "GSAT-19\n",
      "Cartosat-2 Series Satellite\n",
      "GSAT-17\n",
      "IRNSS-1H\n",
      "INS-1C\n",
      "Cartosat-2 Series Satellite\n",
      "Microsat\n",
      "GSAT-6A\n",
      "IRNSS-1I\n",
      "GSAT-29\n",
      "HysIS\n",
      "GSAT-11 Mission\n",
      "GSAT-7A\n",
      "Microsat-R\n",
      "GSAT-31\n",
      "EMISAT\n",
      "RISAT-2B\n",
      "Chandrayaan2\n",
      "Cartosat-3\n",
      "RISAT-2BR1\n",
      "GSAT-30\n",
      "EOS-01\n",
      "CMS-01\n",
      "EOS-03\n"
     ]
    }
   ],
   "source": [
    "#3 isro\n",
    "url3 = requests.get('https://isro.vercel.app/api/spacecrafts')\n",
    "isro_data = url3.json()\n",
    "\n",
    "for spacecraft in isro_data['spacecrafts']:\n",
    "    print(spacecraft['name'])"
   ]
  },
  {
   "cell_type": "markdown",
   "id": "fcb2e3b0-07b0-4ff0-bfd7-6c853add5ca8",
   "metadata": {},
   "source": [
    "### 8. Allow user to enter name of space craft. Print whether that space craft is launched by ISRO or not."
   ]
  },
  {
   "cell_type": "code",
   "execution_count": 77,
   "id": "89a5e7d6-6d1e-4322-ab1f-9a6a2cdf9563",
   "metadata": {},
   "outputs": [
    {
     "name": "stdin",
     "output_type": "stream",
     "text": [
      "Enter spacecraft name:  INSAT-4A\n"
     ]
    },
    {
     "name": "stdout",
     "output_type": "stream",
     "text": [
      "Yes ,It is a Spacecraft launched by ISRO\n"
     ]
    }
   ],
   "source": [
    "#TASK 8\n",
    "name = input(\"Enter spacecraft name: \")\n",
    "found = False\n",
    "for spacecraft in isro_data['spacecrafts']: # Iterate over the list of spacecraft dictionaries\n",
    "    if spacecraft['name'] == name: # Access the 'name' key within each spacecraft\n",
    "        print(\"Yes ,It is a Spacecraft launched by ISRO\")\n",
    "        found = True\n",
    "        break\n",
    "\n",
    "if not found:\n",
    "    print(\"It is a Spacecraft not launched by ISRO\")"
   ]
  },
  {
   "cell_type": "code",
   "execution_count": null,
   "id": "7bf509b4-a33c-441f-911e-1c4f0df41dc1",
   "metadata": {},
   "outputs": [],
   "source": []
  },
  {
   "cell_type": "code",
   "execution_count": null,
   "id": "4993254b-784a-4f89-b364-e5e1b704375e",
   "metadata": {},
   "outputs": [],
   "source": []
  }
 ],
 "metadata": {
  "kernelspec": {
   "display_name": "Python 3 (ipykernel)",
   "language": "python",
   "name": "python3"
  },
  "language_info": {
   "codemirror_mode": {
    "name": "ipython",
    "version": 3
   },
   "file_extension": ".py",
   "mimetype": "text/x-python",
   "name": "python",
   "nbconvert_exporter": "python",
   "pygments_lexer": "ipython3",
   "version": "3.10.8"
  }
 },
 "nbformat": 4,
 "nbformat_minor": 5
}
