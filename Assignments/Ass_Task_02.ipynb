{
 "cells": [
  {
   "cell_type": "code",
   "execution_count": 7,
   "metadata": {
    "id": "Pq6LihvIHXWZ"
   },
   "outputs": [],
   "source": [
    "import pandas as pd\n",
    "import numpy as np\n",
    "import matplotlib.pyplot as plt\n",
    "import seaborn as sns\n",
    "%matplotlib inline"
   ]
  },
  {
   "cell_type": "code",
   "execution_count": 8,
   "metadata": {
    "id": "ep32_WS3HXWk"
   },
   "outputs": [],
   "source": [
    "df=pd.read_csv('insurance.csv')"
   ]
  },
  {
   "cell_type": "code",
   "execution_count": 9,
   "metadata": {
    "id": "uaK-HmQRHXWl",
    "outputId": "ff239d4d-e8ef-4f98-9cba-f8eb8d6af08b"
   },
   "outputs": [
    {
     "data": {
      "text/html": [
       "<div>\n",
       "<style scoped>\n",
       "    .dataframe tbody tr th:only-of-type {\n",
       "        vertical-align: middle;\n",
       "    }\n",
       "\n",
       "    .dataframe tbody tr th {\n",
       "        vertical-align: top;\n",
       "    }\n",
       "\n",
       "    .dataframe thead th {\n",
       "        text-align: right;\n",
       "    }\n",
       "</style>\n",
       "<table border=\"1\" class=\"dataframe\">\n",
       "  <thead>\n",
       "    <tr style=\"text-align: right;\">\n",
       "      <th></th>\n",
       "      <th>age</th>\n",
       "      <th>sex</th>\n",
       "      <th>bmi</th>\n",
       "      <th>children</th>\n",
       "      <th>smoker</th>\n",
       "      <th>region</th>\n",
       "      <th>charges</th>\n",
       "    </tr>\n",
       "  </thead>\n",
       "  <tbody>\n",
       "    <tr>\n",
       "      <th>0</th>\n",
       "      <td>19</td>\n",
       "      <td>female</td>\n",
       "      <td>27.900</td>\n",
       "      <td>0</td>\n",
       "      <td>yes</td>\n",
       "      <td>southwest</td>\n",
       "      <td>16884.92400</td>\n",
       "    </tr>\n",
       "    <tr>\n",
       "      <th>1</th>\n",
       "      <td>18</td>\n",
       "      <td>male</td>\n",
       "      <td>33.770</td>\n",
       "      <td>1</td>\n",
       "      <td>no</td>\n",
       "      <td>southeast</td>\n",
       "      <td>1725.55230</td>\n",
       "    </tr>\n",
       "    <tr>\n",
       "      <th>2</th>\n",
       "      <td>28</td>\n",
       "      <td>male</td>\n",
       "      <td>33.000</td>\n",
       "      <td>3</td>\n",
       "      <td>no</td>\n",
       "      <td>southeast</td>\n",
       "      <td>4449.46200</td>\n",
       "    </tr>\n",
       "    <tr>\n",
       "      <th>3</th>\n",
       "      <td>33</td>\n",
       "      <td>male</td>\n",
       "      <td>22.705</td>\n",
       "      <td>0</td>\n",
       "      <td>no</td>\n",
       "      <td>northwest</td>\n",
       "      <td>21984.47061</td>\n",
       "    </tr>\n",
       "    <tr>\n",
       "      <th>4</th>\n",
       "      <td>32</td>\n",
       "      <td>male</td>\n",
       "      <td>28.880</td>\n",
       "      <td>0</td>\n",
       "      <td>no</td>\n",
       "      <td>northwest</td>\n",
       "      <td>3866.85520</td>\n",
       "    </tr>\n",
       "  </tbody>\n",
       "</table>\n",
       "</div>"
      ],
      "text/plain": [
       "   age     sex     bmi  children smoker     region      charges\n",
       "0   19  female  27.900         0    yes  southwest  16884.92400\n",
       "1   18    male  33.770         1     no  southeast   1725.55230\n",
       "2   28    male  33.000         3     no  southeast   4449.46200\n",
       "3   33    male  22.705         0     no  northwest  21984.47061\n",
       "4   32    male  28.880         0     no  northwest   3866.85520"
      ]
     },
     "execution_count": 9,
     "metadata": {},
     "output_type": "execute_result"
    }
   ],
   "source": [
    "df.head()"
   ]
  },
  {
   "cell_type": "code",
   "execution_count": 10,
   "metadata": {
    "id": "N0allNEBHXWn",
    "outputId": "3350d2ba-bd47-4c04-dd45-b24c3016819d"
   },
   "outputs": [
    {
     "data": {
      "text/plain": [
       "Index(['age', 'sex', 'bmi', 'children', 'smoker', 'region', 'charges'], dtype='object')"
      ]
     },
     "execution_count": 10,
     "metadata": {},
     "output_type": "execute_result"
    }
   ],
   "source": [
    "df.columns"
   ]
  },
  {
   "cell_type": "code",
   "execution_count": 14,
   "metadata": {},
   "outputs": [
    {
     "name": "stdout",
     "output_type": "stream",
     "text": [
      "<class 'pandas.core.frame.DataFrame'>\n",
      "RangeIndex: 1338 entries, 0 to 1337\n",
      "Data columns (total 7 columns):\n",
      " #   Column    Non-Null Count  Dtype  \n",
      "---  ------    --------------  -----  \n",
      " 0   age       1338 non-null   int64  \n",
      " 1   sex       1338 non-null   object \n",
      " 2   bmi       1338 non-null   float64\n",
      " 3   children  1338 non-null   int64  \n",
      " 4   smoker    1338 non-null   object \n",
      " 5   region    1338 non-null   object \n",
      " 6   charges   1338 non-null   float64\n",
      "dtypes: float64(2), int64(2), object(3)\n",
      "memory usage: 73.3+ KB\n"
     ]
    }
   ],
   "source": [
    "df.info()"
   ]
  },
  {
   "cell_type": "code",
   "execution_count": 15,
   "metadata": {
    "id": "2oUhXL9KHXWq",
    "outputId": "d804f233-e2a4-4dd4-e7ad-dc7848c577fc"
   },
   "outputs": [
    {
     "data": {
      "text/plain": [
       "southeast    364\n",
       "southwest    325\n",
       "northwest    325\n",
       "northeast    324\n",
       "Name: region, dtype: int64"
      ]
     },
     "execution_count": 15,
     "metadata": {},
     "output_type": "execute_result"
    }
   ],
   "source": [
    "df['region'].value_counts()"
   ]
  },
  {
   "cell_type": "code",
   "execution_count": 16,
   "metadata": {
    "id": "fkhGQMSWHXWr",
    "outputId": "7dacbdd2-1cfd-4a55-8daa-d1cc566ac66b"
   },
   "outputs": [
    {
     "data": {
      "text/html": [
       "<div>\n",
       "<style scoped>\n",
       "    .dataframe tbody tr th:only-of-type {\n",
       "        vertical-align: middle;\n",
       "    }\n",
       "\n",
       "    .dataframe tbody tr th {\n",
       "        vertical-align: top;\n",
       "    }\n",
       "\n",
       "    .dataframe thead th {\n",
       "        text-align: right;\n",
       "    }\n",
       "</style>\n",
       "<table border=\"1\" class=\"dataframe\">\n",
       "  <thead>\n",
       "    <tr style=\"text-align: right;\">\n",
       "      <th></th>\n",
       "      <th>age</th>\n",
       "      <th>sex</th>\n",
       "      <th>bmi</th>\n",
       "      <th>children</th>\n",
       "      <th>smoker</th>\n",
       "      <th>region</th>\n",
       "      <th>charges</th>\n",
       "    </tr>\n",
       "  </thead>\n",
       "  <tbody>\n",
       "    <tr>\n",
       "      <th>1333</th>\n",
       "      <td>50</td>\n",
       "      <td>male</td>\n",
       "      <td>30.97</td>\n",
       "      <td>3</td>\n",
       "      <td>no</td>\n",
       "      <td>northwest</td>\n",
       "      <td>10600.5483</td>\n",
       "    </tr>\n",
       "    <tr>\n",
       "      <th>1334</th>\n",
       "      <td>18</td>\n",
       "      <td>female</td>\n",
       "      <td>31.92</td>\n",
       "      <td>0</td>\n",
       "      <td>no</td>\n",
       "      <td>northeast</td>\n",
       "      <td>2205.9808</td>\n",
       "    </tr>\n",
       "    <tr>\n",
       "      <th>1335</th>\n",
       "      <td>18</td>\n",
       "      <td>female</td>\n",
       "      <td>36.85</td>\n",
       "      <td>0</td>\n",
       "      <td>no</td>\n",
       "      <td>southeast</td>\n",
       "      <td>1629.8335</td>\n",
       "    </tr>\n",
       "    <tr>\n",
       "      <th>1336</th>\n",
       "      <td>21</td>\n",
       "      <td>female</td>\n",
       "      <td>25.80</td>\n",
       "      <td>0</td>\n",
       "      <td>no</td>\n",
       "      <td>southwest</td>\n",
       "      <td>2007.9450</td>\n",
       "    </tr>\n",
       "    <tr>\n",
       "      <th>1337</th>\n",
       "      <td>61</td>\n",
       "      <td>female</td>\n",
       "      <td>29.07</td>\n",
       "      <td>0</td>\n",
       "      <td>yes</td>\n",
       "      <td>northwest</td>\n",
       "      <td>29141.3603</td>\n",
       "    </tr>\n",
       "  </tbody>\n",
       "</table>\n",
       "</div>"
      ],
      "text/plain": [
       "      age     sex    bmi  children smoker     region     charges\n",
       "1333   50    male  30.97         3     no  northwest  10600.5483\n",
       "1334   18  female  31.92         0     no  northeast   2205.9808\n",
       "1335   18  female  36.85         0     no  southeast   1629.8335\n",
       "1336   21  female  25.80         0     no  southwest   2007.9450\n",
       "1337   61  female  29.07         0    yes  northwest  29141.3603"
      ]
     },
     "execution_count": 16,
     "metadata": {},
     "output_type": "execute_result"
    }
   ],
   "source": [
    "df.tail()"
   ]
  },
  {
   "cell_type": "code",
   "execution_count": 17,
   "metadata": {
    "id": "mHhVwvJXHXWu",
    "outputId": "1b322425-1d31-47c5-e272-0c198cec2a47"
   },
   "outputs": [],
   "source": [
    "from sklearn.preprocessing import OneHotEncoder\n",
    "\n",
    "#Extract categorical columns from the dataframe\n",
    "#Here we extract the columns with object datatype as they are the categorical columns\n",
    "categorical_columns = df.select_dtypes(include=['object']).columns.tolist()\n",
    "\n",
    "#Initialize OneHotEncoder\n",
    "encoder = OneHotEncoder(sparse_output=False)\n",
    "\n",
    "# Apply one-hot encoding to the categorical columns\n",
    "one_hot_encoded = encoder.fit_transform(df[categorical_columns])\n",
    "\n",
    "#Create a DataFrame with the one-hot encoded columns\n",
    "#We use get_feature_names_out() to get the column names for the encoded data\n",
    "one_hot_df = pd.DataFrame(one_hot_encoded, columns=encoder.get_feature_names_out(categorical_columns))\n",
    "\n",
    "# Concatenate the one-hot encoded dataframe with the original dataframe\n",
    "df_encoded = pd.concat([df, one_hot_df], axis=1)\n",
    "\n",
    "# Drop the original categorical columns\n",
    "df_encoded = df_encoded.drop(categorical_columns, axis=1)\n",
    "\n",
    "# Display the resulting dataframe\n",
    "df_encoded\n",
    "\n",
    "df_encoded.to_csv(\"insurance_new.csv\")"
   ]
  },
  {
   "cell_type": "code",
   "execution_count": 18,
   "metadata": {
    "id": "Jdu-YiFjHXWw"
   },
   "outputs": [],
   "source": [
    "## Independent And dependent features\n",
    "X=df_encoded.drop('charges',axis=1)\n",
    "y=df_encoded['charges']"
   ]
  },
  {
   "cell_type": "code",
   "execution_count": 19,
   "metadata": {
    "id": "03ZOMamIHXWw",
    "outputId": "012defe9-ca14-4c0c-9657-84211494b71a"
   },
   "outputs": [
    {
     "data": {
      "text/html": [
       "<div>\n",
       "<style scoped>\n",
       "    .dataframe tbody tr th:only-of-type {\n",
       "        vertical-align: middle;\n",
       "    }\n",
       "\n",
       "    .dataframe tbody tr th {\n",
       "        vertical-align: top;\n",
       "    }\n",
       "\n",
       "    .dataframe thead th {\n",
       "        text-align: right;\n",
       "    }\n",
       "</style>\n",
       "<table border=\"1\" class=\"dataframe\">\n",
       "  <thead>\n",
       "    <tr style=\"text-align: right;\">\n",
       "      <th></th>\n",
       "      <th>age</th>\n",
       "      <th>bmi</th>\n",
       "      <th>children</th>\n",
       "      <th>sex_female</th>\n",
       "      <th>sex_male</th>\n",
       "      <th>smoker_no</th>\n",
       "      <th>smoker_yes</th>\n",
       "      <th>region_northeast</th>\n",
       "      <th>region_northwest</th>\n",
       "      <th>region_southeast</th>\n",
       "      <th>region_southwest</th>\n",
       "    </tr>\n",
       "  </thead>\n",
       "  <tbody>\n",
       "    <tr>\n",
       "      <th>0</th>\n",
       "      <td>19</td>\n",
       "      <td>27.900</td>\n",
       "      <td>0</td>\n",
       "      <td>1.0</td>\n",
       "      <td>0.0</td>\n",
       "      <td>0.0</td>\n",
       "      <td>1.0</td>\n",
       "      <td>0.0</td>\n",
       "      <td>0.0</td>\n",
       "      <td>0.0</td>\n",
       "      <td>1.0</td>\n",
       "    </tr>\n",
       "    <tr>\n",
       "      <th>1</th>\n",
       "      <td>18</td>\n",
       "      <td>33.770</td>\n",
       "      <td>1</td>\n",
       "      <td>0.0</td>\n",
       "      <td>1.0</td>\n",
       "      <td>1.0</td>\n",
       "      <td>0.0</td>\n",
       "      <td>0.0</td>\n",
       "      <td>0.0</td>\n",
       "      <td>1.0</td>\n",
       "      <td>0.0</td>\n",
       "    </tr>\n",
       "    <tr>\n",
       "      <th>2</th>\n",
       "      <td>28</td>\n",
       "      <td>33.000</td>\n",
       "      <td>3</td>\n",
       "      <td>0.0</td>\n",
       "      <td>1.0</td>\n",
       "      <td>1.0</td>\n",
       "      <td>0.0</td>\n",
       "      <td>0.0</td>\n",
       "      <td>0.0</td>\n",
       "      <td>1.0</td>\n",
       "      <td>0.0</td>\n",
       "    </tr>\n",
       "    <tr>\n",
       "      <th>3</th>\n",
       "      <td>33</td>\n",
       "      <td>22.705</td>\n",
       "      <td>0</td>\n",
       "      <td>0.0</td>\n",
       "      <td>1.0</td>\n",
       "      <td>1.0</td>\n",
       "      <td>0.0</td>\n",
       "      <td>0.0</td>\n",
       "      <td>1.0</td>\n",
       "      <td>0.0</td>\n",
       "      <td>0.0</td>\n",
       "    </tr>\n",
       "    <tr>\n",
       "      <th>4</th>\n",
       "      <td>32</td>\n",
       "      <td>28.880</td>\n",
       "      <td>0</td>\n",
       "      <td>0.0</td>\n",
       "      <td>1.0</td>\n",
       "      <td>1.0</td>\n",
       "      <td>0.0</td>\n",
       "      <td>0.0</td>\n",
       "      <td>1.0</td>\n",
       "      <td>0.0</td>\n",
       "      <td>0.0</td>\n",
       "    </tr>\n",
       "  </tbody>\n",
       "</table>\n",
       "</div>"
      ],
      "text/plain": [
       "   age     bmi  children  sex_female  sex_male  smoker_no  smoker_yes  \\\n",
       "0   19  27.900         0         1.0       0.0        0.0         1.0   \n",
       "1   18  33.770         1         0.0       1.0        1.0         0.0   \n",
       "2   28  33.000         3         0.0       1.0        1.0         0.0   \n",
       "3   33  22.705         0         0.0       1.0        1.0         0.0   \n",
       "4   32  28.880         0         0.0       1.0        1.0         0.0   \n",
       "\n",
       "   region_northeast  region_northwest  region_southeast  region_southwest  \n",
       "0               0.0               0.0               0.0               1.0  \n",
       "1               0.0               0.0               1.0               0.0  \n",
       "2               0.0               0.0               1.0               0.0  \n",
       "3               0.0               1.0               0.0               0.0  \n",
       "4               0.0               1.0               0.0               0.0  "
      ]
     },
     "execution_count": 19,
     "metadata": {},
     "output_type": "execute_result"
    }
   ],
   "source": [
    "X.head()"
   ]
  },
  {
   "cell_type": "code",
   "execution_count": 20,
   "metadata": {},
   "outputs": [
    {
     "data": {
      "text/plain": [
       "Index(['age', 'bmi', 'children', 'charges', 'sex_female', 'sex_male',\n",
       "       'smoker_no', 'smoker_yes', 'region_northeast', 'region_northwest',\n",
       "       'region_southeast', 'region_southwest'],\n",
       "      dtype='object')"
      ]
     },
     "execution_count": 20,
     "metadata": {},
     "output_type": "execute_result"
    }
   ],
   "source": [
    "df_encoded.columns"
   ]
  },
  {
   "cell_type": "code",
   "execution_count": 21,
   "metadata": {
    "id": "n1icCttKHXWx",
    "outputId": "0e744e96-62be-4943-c9ac-aff45801b660"
   },
   "outputs": [
    {
     "data": {
      "text/plain": [
       "0       16884.92400\n",
       "1        1725.55230\n",
       "2        4449.46200\n",
       "3       21984.47061\n",
       "4        3866.85520\n",
       "           ...     \n",
       "1333    10600.54830\n",
       "1334     2205.98080\n",
       "1335     1629.83350\n",
       "1336     2007.94500\n",
       "1337    29141.36030\n",
       "Name: charges, Length: 1338, dtype: float64"
      ]
     },
     "execution_count": 21,
     "metadata": {},
     "output_type": "execute_result"
    }
   ],
   "source": [
    "y"
   ]
  },
  {
   "cell_type": "code",
   "execution_count": null,
   "metadata": {},
   "outputs": [],
   "source": []
  },
  {
   "cell_type": "code",
   "execution_count": 22,
   "metadata": {
    "id": "ERTXbiMIHXWx"
   },
   "outputs": [],
   "source": [
    "#Train Test Split\n",
    "from sklearn.model_selection import train_test_split\n",
    "X_train,X_test,y_train,y_test=train_test_split(X,y,test_size=0.25,random_state=42)"
   ]
  },
  {
   "cell_type": "code",
   "execution_count": 23,
   "metadata": {
    "id": "qFc-4MwUHXWy",
    "outputId": "ba4ec477-79e4-4c40-e8eb-5585991eb46a"
   },
   "outputs": [
    {
     "data": {
      "text/plain": [
       "((1003, 11), (335, 11))"
      ]
     },
     "execution_count": 23,
     "metadata": {},
     "output_type": "execute_result"
    }
   ],
   "source": [
    "X_train.shape,X_test.shape"
   ]
  },
  {
   "cell_type": "code",
   "execution_count": 24,
   "metadata": {
    "id": "Z6p3lMgPHXWz",
    "outputId": "a395bb8c-f0aa-4d4d-b2fe-341f648e7cd7"
   },
   "outputs": [
    {
     "data": {
      "text/html": [
       "<div>\n",
       "<style scoped>\n",
       "    .dataframe tbody tr th:only-of-type {\n",
       "        vertical-align: middle;\n",
       "    }\n",
       "\n",
       "    .dataframe tbody tr th {\n",
       "        vertical-align: top;\n",
       "    }\n",
       "\n",
       "    .dataframe thead th {\n",
       "        text-align: right;\n",
       "    }\n",
       "</style>\n",
       "<table border=\"1\" class=\"dataframe\">\n",
       "  <thead>\n",
       "    <tr style=\"text-align: right;\">\n",
       "      <th></th>\n",
       "      <th>age</th>\n",
       "      <th>bmi</th>\n",
       "      <th>children</th>\n",
       "      <th>sex_female</th>\n",
       "      <th>sex_male</th>\n",
       "      <th>smoker_no</th>\n",
       "      <th>smoker_yes</th>\n",
       "      <th>region_northeast</th>\n",
       "      <th>region_northwest</th>\n",
       "      <th>region_southeast</th>\n",
       "      <th>region_southwest</th>\n",
       "    </tr>\n",
       "  </thead>\n",
       "  <tbody>\n",
       "    <tr>\n",
       "      <th>age</th>\n",
       "      <td>1.000000</td>\n",
       "      <td>0.111325</td>\n",
       "      <td>0.055070</td>\n",
       "      <td>0.012385</td>\n",
       "      <td>-0.012385</td>\n",
       "      <td>0.037916</td>\n",
       "      <td>-0.037916</td>\n",
       "      <td>-0.012805</td>\n",
       "      <td>0.016715</td>\n",
       "      <td>-0.023557</td>\n",
       "      <td>0.020113</td>\n",
       "    </tr>\n",
       "    <tr>\n",
       "      <th>bmi</th>\n",
       "      <td>0.111325</td>\n",
       "      <td>1.000000</td>\n",
       "      <td>-0.003459</td>\n",
       "      <td>-0.001931</td>\n",
       "      <td>0.001931</td>\n",
       "      <td>0.001499</td>\n",
       "      <td>-0.001499</td>\n",
       "      <td>-0.154166</td>\n",
       "      <td>-0.109244</td>\n",
       "      <td>0.238183</td>\n",
       "      <td>0.022136</td>\n",
       "    </tr>\n",
       "    <tr>\n",
       "      <th>children</th>\n",
       "      <td>0.055070</td>\n",
       "      <td>-0.003459</td>\n",
       "      <td>1.000000</td>\n",
       "      <td>-0.016610</td>\n",
       "      <td>0.016610</td>\n",
       "      <td>-0.025488</td>\n",
       "      <td>0.025488</td>\n",
       "      <td>0.009031</td>\n",
       "      <td>0.038969</td>\n",
       "      <td>-0.032380</td>\n",
       "      <td>-0.015102</td>\n",
       "    </tr>\n",
       "    <tr>\n",
       "      <th>sex_female</th>\n",
       "      <td>0.012385</td>\n",
       "      <td>-0.001931</td>\n",
       "      <td>-0.016610</td>\n",
       "      <td>1.000000</td>\n",
       "      <td>-1.000000</td>\n",
       "      <td>0.054671</td>\n",
       "      <td>-0.054671</td>\n",
       "      <td>-0.010928</td>\n",
       "      <td>-0.031963</td>\n",
       "      <td>0.025798</td>\n",
       "      <td>0.016700</td>\n",
       "    </tr>\n",
       "    <tr>\n",
       "      <th>sex_male</th>\n",
       "      <td>-0.012385</td>\n",
       "      <td>0.001931</td>\n",
       "      <td>0.016610</td>\n",
       "      <td>-1.000000</td>\n",
       "      <td>1.000000</td>\n",
       "      <td>-0.054671</td>\n",
       "      <td>0.054671</td>\n",
       "      <td>0.010928</td>\n",
       "      <td>0.031963</td>\n",
       "      <td>-0.025798</td>\n",
       "      <td>-0.016700</td>\n",
       "    </tr>\n",
       "    <tr>\n",
       "      <th>smoker_no</th>\n",
       "      <td>0.037916</td>\n",
       "      <td>0.001499</td>\n",
       "      <td>-0.025488</td>\n",
       "      <td>0.054671</td>\n",
       "      <td>-0.054671</td>\n",
       "      <td>1.000000</td>\n",
       "      <td>-1.000000</td>\n",
       "      <td>-0.013951</td>\n",
       "      <td>0.031689</td>\n",
       "      <td>-0.044016</td>\n",
       "      <td>0.027094</td>\n",
       "    </tr>\n",
       "    <tr>\n",
       "      <th>smoker_yes</th>\n",
       "      <td>-0.037916</td>\n",
       "      <td>-0.001499</td>\n",
       "      <td>0.025488</td>\n",
       "      <td>-0.054671</td>\n",
       "      <td>0.054671</td>\n",
       "      <td>-1.000000</td>\n",
       "      <td>1.000000</td>\n",
       "      <td>0.013951</td>\n",
       "      <td>-0.031689</td>\n",
       "      <td>0.044016</td>\n",
       "      <td>-0.027094</td>\n",
       "    </tr>\n",
       "    <tr>\n",
       "      <th>region_northeast</th>\n",
       "      <td>-0.012805</td>\n",
       "      <td>-0.154166</td>\n",
       "      <td>0.009031</td>\n",
       "      <td>-0.010928</td>\n",
       "      <td>0.010928</td>\n",
       "      <td>-0.013951</td>\n",
       "      <td>0.013951</td>\n",
       "      <td>1.000000</td>\n",
       "      <td>-0.329342</td>\n",
       "      <td>-0.340872</td>\n",
       "      <td>-0.330229</td>\n",
       "    </tr>\n",
       "    <tr>\n",
       "      <th>region_northwest</th>\n",
       "      <td>0.016715</td>\n",
       "      <td>-0.109244</td>\n",
       "      <td>0.038969</td>\n",
       "      <td>-0.031963</td>\n",
       "      <td>0.031963</td>\n",
       "      <td>0.031689</td>\n",
       "      <td>-0.031689</td>\n",
       "      <td>-0.329342</td>\n",
       "      <td>1.000000</td>\n",
       "      <td>-0.336343</td>\n",
       "      <td>-0.325842</td>\n",
       "    </tr>\n",
       "    <tr>\n",
       "      <th>region_southeast</th>\n",
       "      <td>-0.023557</td>\n",
       "      <td>0.238183</td>\n",
       "      <td>-0.032380</td>\n",
       "      <td>0.025798</td>\n",
       "      <td>-0.025798</td>\n",
       "      <td>-0.044016</td>\n",
       "      <td>0.044016</td>\n",
       "      <td>-0.340872</td>\n",
       "      <td>-0.336343</td>\n",
       "      <td>1.000000</td>\n",
       "      <td>-0.337249</td>\n",
       "    </tr>\n",
       "    <tr>\n",
       "      <th>region_southwest</th>\n",
       "      <td>0.020113</td>\n",
       "      <td>0.022136</td>\n",
       "      <td>-0.015102</td>\n",
       "      <td>0.016700</td>\n",
       "      <td>-0.016700</td>\n",
       "      <td>0.027094</td>\n",
       "      <td>-0.027094</td>\n",
       "      <td>-0.330229</td>\n",
       "      <td>-0.325842</td>\n",
       "      <td>-0.337249</td>\n",
       "      <td>1.000000</td>\n",
       "    </tr>\n",
       "  </tbody>\n",
       "</table>\n",
       "</div>"
      ],
      "text/plain": [
       "                       age       bmi  children  sex_female  sex_male  \\\n",
       "age               1.000000  0.111325  0.055070    0.012385 -0.012385   \n",
       "bmi               0.111325  1.000000 -0.003459   -0.001931  0.001931   \n",
       "children          0.055070 -0.003459  1.000000   -0.016610  0.016610   \n",
       "sex_female        0.012385 -0.001931 -0.016610    1.000000 -1.000000   \n",
       "sex_male         -0.012385  0.001931  0.016610   -1.000000  1.000000   \n",
       "smoker_no         0.037916  0.001499 -0.025488    0.054671 -0.054671   \n",
       "smoker_yes       -0.037916 -0.001499  0.025488   -0.054671  0.054671   \n",
       "region_northeast -0.012805 -0.154166  0.009031   -0.010928  0.010928   \n",
       "region_northwest  0.016715 -0.109244  0.038969   -0.031963  0.031963   \n",
       "region_southeast -0.023557  0.238183 -0.032380    0.025798 -0.025798   \n",
       "region_southwest  0.020113  0.022136 -0.015102    0.016700 -0.016700   \n",
       "\n",
       "                  smoker_no  smoker_yes  region_northeast  region_northwest  \\\n",
       "age                0.037916   -0.037916         -0.012805          0.016715   \n",
       "bmi                0.001499   -0.001499         -0.154166         -0.109244   \n",
       "children          -0.025488    0.025488          0.009031          0.038969   \n",
       "sex_female         0.054671   -0.054671         -0.010928         -0.031963   \n",
       "sex_male          -0.054671    0.054671          0.010928          0.031963   \n",
       "smoker_no          1.000000   -1.000000         -0.013951          0.031689   \n",
       "smoker_yes        -1.000000    1.000000          0.013951         -0.031689   \n",
       "region_northeast  -0.013951    0.013951          1.000000         -0.329342   \n",
       "region_northwest   0.031689   -0.031689         -0.329342          1.000000   \n",
       "region_southeast  -0.044016    0.044016         -0.340872         -0.336343   \n",
       "region_southwest   0.027094   -0.027094         -0.330229         -0.325842   \n",
       "\n",
       "                  region_southeast  region_southwest  \n",
       "age                      -0.023557          0.020113  \n",
       "bmi                       0.238183          0.022136  \n",
       "children                 -0.032380         -0.015102  \n",
       "sex_female                0.025798          0.016700  \n",
       "sex_male                 -0.025798         -0.016700  \n",
       "smoker_no                -0.044016          0.027094  \n",
       "smoker_yes                0.044016         -0.027094  \n",
       "region_northeast         -0.340872         -0.330229  \n",
       "region_northwest         -0.336343         -0.325842  \n",
       "region_southeast          1.000000         -0.337249  \n",
       "region_southwest         -0.337249          1.000000  "
      ]
     },
     "execution_count": 24,
     "metadata": {},
     "output_type": "execute_result"
    }
   ],
   "source": [
    "## Feature Selection based on correlaltion\n",
    "X_train.corr()"
   ]
  },
  {
   "cell_type": "markdown",
   "metadata": {
    "id": "gOIdY1kXHXW1"
   },
   "source": [
    "## Feature Selection"
   ]
  },
  {
   "cell_type": "code",
   "execution_count": 25,
   "metadata": {
    "id": "tcx61AWpHXW6",
    "outputId": "3d859daa-1f42-439e-ac54-c6fa53ac9818"
   },
   "outputs": [
    {
     "data": {
      "text/plain": [
       "<AxesSubplot: >"
      ]
     },
     "execution_count": 25,
     "metadata": {},
     "output_type": "execute_result"
    },
    {
     "data": {
      "image/png": "[encoded data removed]",
      "text/plain": [
       "<Figure size 1200x1000 with 2 Axes>"
      ]
     },
     "metadata": {},
     "output_type": "display_data"
    }
   ],
   "source": [
    "## Check for multicollinearity\n",
    "plt.figure(figsize=(12,10))\n",
    "corr=X_train.corr()\n",
    "sns.heatmap(corr,annot=True)\n"
   ]
  },
  {
   "cell_type": "code",
   "execution_count": 26,
   "metadata": {
    "id": "XV1bMRTMHXW7",
    "outputId": "75b4fe9e-1927-423b-bbdf-45f328fb2e7c"
   },
   "outputs": [
    {
     "data": {
      "text/html": [
       "<div>\n",
       "<style scoped>\n",
       "    .dataframe tbody tr th:only-of-type {\n",
       "        vertical-align: middle;\n",
       "    }\n",
       "\n",
       "    .dataframe tbody tr th {\n",
       "        vertical-align: top;\n",
       "    }\n",
       "\n",
       "    .dataframe thead th {\n",
       "        text-align: right;\n",
       "    }\n",
       "</style>\n",
       "<table border=\"1\" class=\"dataframe\">\n",
       "  <thead>\n",
       "    <tr style=\"text-align: right;\">\n",
       "      <th></th>\n",
       "      <th>age</th>\n",
       "      <th>bmi</th>\n",
       "      <th>children</th>\n",
       "      <th>sex_female</th>\n",
       "      <th>sex_male</th>\n",
       "      <th>smoker_no</th>\n",
       "      <th>smoker_yes</th>\n",
       "      <th>region_northeast</th>\n",
       "      <th>region_northwest</th>\n",
       "      <th>region_southeast</th>\n",
       "      <th>region_southwest</th>\n",
       "    </tr>\n",
       "  </thead>\n",
       "  <tbody>\n",
       "    <tr>\n",
       "      <th>age</th>\n",
       "      <td>1.000000</td>\n",
       "      <td>0.111325</td>\n",
       "      <td>0.055070</td>\n",
       "      <td>0.012385</td>\n",
       "      <td>-0.012385</td>\n",
       "      <td>0.037916</td>\n",
       "      <td>-0.037916</td>\n",
       "      <td>-0.012805</td>\n",
       "      <td>0.016715</td>\n",
       "      <td>-0.023557</td>\n",
       "      <td>0.020113</td>\n",
       "    </tr>\n",
       "    <tr>\n",
       "      <th>bmi</th>\n",
       "      <td>0.111325</td>\n",
       "      <td>1.000000</td>\n",
       "      <td>-0.003459</td>\n",
       "      <td>-0.001931</td>\n",
       "      <td>0.001931</td>\n",
       "      <td>0.001499</td>\n",
       "      <td>-0.001499</td>\n",
       "      <td>-0.154166</td>\n",
       "      <td>-0.109244</td>\n",
       "      <td>0.238183</td>\n",
       "      <td>0.022136</td>\n",
       "    </tr>\n",
       "    <tr>\n",
       "      <th>children</th>\n",
       "      <td>0.055070</td>\n",
       "      <td>-0.003459</td>\n",
       "      <td>1.000000</td>\n",
       "      <td>-0.016610</td>\n",
       "      <td>0.016610</td>\n",
       "      <td>-0.025488</td>\n",
       "      <td>0.025488</td>\n",
       "      <td>0.009031</td>\n",
       "      <td>0.038969</td>\n",
       "      <td>-0.032380</td>\n",
       "      <td>-0.015102</td>\n",
       "    </tr>\n",
       "    <tr>\n",
       "      <th>sex_female</th>\n",
       "      <td>0.012385</td>\n",
       "      <td>-0.001931</td>\n",
       "      <td>-0.016610</td>\n",
       "      <td>1.000000</td>\n",
       "      <td>-1.000000</td>\n",
       "      <td>0.054671</td>\n",
       "      <td>-0.054671</td>\n",
       "      <td>-0.010928</td>\n",
       "      <td>-0.031963</td>\n",
       "      <td>0.025798</td>\n",
       "      <td>0.016700</td>\n",
       "    </tr>\n",
       "    <tr>\n",
       "      <th>sex_male</th>\n",
       "      <td>-0.012385</td>\n",
       "      <td>0.001931</td>\n",
       "      <td>0.016610</td>\n",
       "      <td>-1.000000</td>\n",
       "      <td>1.000000</td>\n",
       "      <td>-0.054671</td>\n",
       "      <td>0.054671</td>\n",
       "      <td>0.010928</td>\n",
       "      <td>0.031963</td>\n",
       "      <td>-0.025798</td>\n",
       "      <td>-0.016700</td>\n",
       "    </tr>\n",
       "    <tr>\n",
       "      <th>smoker_no</th>\n",
       "      <td>0.037916</td>\n",
       "      <td>0.001499</td>\n",
       "      <td>-0.025488</td>\n",
       "      <td>0.054671</td>\n",
       "      <td>-0.054671</td>\n",
       "      <td>1.000000</td>\n",
       "      <td>-1.000000</td>\n",
       "      <td>-0.013951</td>\n",
       "      <td>0.031689</td>\n",
       "      <td>-0.044016</td>\n",
       "      <td>0.027094</td>\n",
       "    </tr>\n",
       "    <tr>\n",
       "      <th>smoker_yes</th>\n",
       "      <td>-0.037916</td>\n",
       "      <td>-0.001499</td>\n",
       "      <td>0.025488</td>\n",
       "      <td>-0.054671</td>\n",
       "      <td>0.054671</td>\n",
       "      <td>-1.000000</td>\n",
       "      <td>1.000000</td>\n",
       "      <td>0.013951</td>\n",
       "      <td>-0.031689</td>\n",
       "      <td>0.044016</td>\n",
       "      <td>-0.027094</td>\n",
       "    </tr>\n",
       "    <tr>\n",
       "      <th>region_northeast</th>\n",
       "      <td>-0.012805</td>\n",
       "      <td>-0.154166</td>\n",
       "      <td>0.009031</td>\n",
       "      <td>-0.010928</td>\n",
       "      <td>0.010928</td>\n",
       "      <td>-0.013951</td>\n",
       "      <td>0.013951</td>\n",
       "      <td>1.000000</td>\n",
       "      <td>-0.329342</td>\n",
       "      <td>-0.340872</td>\n",
       "      <td>-0.330229</td>\n",
       "    </tr>\n",
       "    <tr>\n",
       "      <th>region_northwest</th>\n",
       "      <td>0.016715</td>\n",
       "      <td>-0.109244</td>\n",
       "      <td>0.038969</td>\n",
       "      <td>-0.031963</td>\n",
       "      <td>0.031963</td>\n",
       "      <td>0.031689</td>\n",
       "      <td>-0.031689</td>\n",
       "      <td>-0.329342</td>\n",
       "      <td>1.000000</td>\n",
       "      <td>-0.336343</td>\n",
       "      <td>-0.325842</td>\n",
       "    </tr>\n",
       "    <tr>\n",
       "      <th>region_southeast</th>\n",
       "      <td>-0.023557</td>\n",
       "      <td>0.238183</td>\n",
       "      <td>-0.032380</td>\n",
       "      <td>0.025798</td>\n",
       "      <td>-0.025798</td>\n",
       "      <td>-0.044016</td>\n",
       "      <td>0.044016</td>\n",
       "      <td>-0.340872</td>\n",
       "      <td>-0.336343</td>\n",
       "      <td>1.000000</td>\n",
       "      <td>-0.337249</td>\n",
       "    </tr>\n",
       "    <tr>\n",
       "      <th>region_southwest</th>\n",
       "      <td>0.020113</td>\n",
       "      <td>0.022136</td>\n",
       "      <td>-0.015102</td>\n",
       "      <td>0.016700</td>\n",
       "      <td>-0.016700</td>\n",
       "      <td>0.027094</td>\n",
       "      <td>-0.027094</td>\n",
       "      <td>-0.330229</td>\n",
       "      <td>-0.325842</td>\n",
       "      <td>-0.337249</td>\n",
       "      <td>1.000000</td>\n",
       "    </tr>\n",
       "  </tbody>\n",
       "</table>\n",
       "</div>"
      ],
      "text/plain": [
       "                       age       bmi  children  sex_female  sex_male  \\\n",
       "age               1.000000  0.111325  0.055070    0.012385 -0.012385   \n",
       "bmi               0.111325  1.000000 -0.003459   -0.001931  0.001931   \n",
       "children          0.055070 -0.003459  1.000000   -0.016610  0.016610   \n",
       "sex_female        0.012385 -0.001931 -0.016610    1.000000 -1.000000   \n",
       "sex_male         -0.012385  0.001931  0.016610   -1.000000  1.000000   \n",
       "smoker_no         0.037916  0.001499 -0.025488    0.054671 -0.054671   \n",
       "smoker_yes       -0.037916 -0.001499  0.025488   -0.054671  0.054671   \n",
       "region_northeast -0.012805 -0.154166  0.009031   -0.010928  0.010928   \n",
       "region_northwest  0.016715 -0.109244  0.038969   -0.031963  0.031963   \n",
       "region_southeast -0.023557  0.238183 -0.032380    0.025798 -0.025798   \n",
       "region_southwest  0.020113  0.022136 -0.015102    0.016700 -0.016700   \n",
       "\n",
       "                  smoker_no  smoker_yes  region_northeast  region_northwest  \\\n",
       "age                0.037916   -0.037916         -0.012805          0.016715   \n",
       "bmi                0.001499   -0.001499         -0.154166         -0.109244   \n",
       "children          -0.025488    0.025488          0.009031          0.038969   \n",
       "sex_female         0.054671   -0.054671         -0.010928         -0.031963   \n",
       "sex_male          -0.054671    0.054671          0.010928          0.031963   \n",
       "smoker_no          1.000000   -1.000000         -0.013951          0.031689   \n",
       "smoker_yes        -1.000000    1.000000          0.013951         -0.031689   \n",
       "region_northeast  -0.013951    0.013951          1.000000         -0.329342   \n",
       "region_northwest   0.031689   -0.031689         -0.329342          1.000000   \n",
       "region_southeast  -0.044016    0.044016         -0.340872         -0.336343   \n",
       "region_southwest   0.027094   -0.027094         -0.330229         -0.325842   \n",
       "\n",
       "                  region_southeast  region_southwest  \n",
       "age                      -0.023557          0.020113  \n",
       "bmi                       0.238183          0.022136  \n",
       "children                 -0.032380         -0.015102  \n",
       "sex_female                0.025798          0.016700  \n",
       "sex_male                 -0.025798         -0.016700  \n",
       "smoker_no                -0.044016          0.027094  \n",
       "smoker_yes                0.044016         -0.027094  \n",
       "region_northeast         -0.340872         -0.330229  \n",
       "region_northwest         -0.336343         -0.325842  \n",
       "region_southeast          1.000000         -0.337249  \n",
       "region_southwest         -0.337249          1.000000  "
      ]
     },
     "execution_count": 26,
     "metadata": {},
     "output_type": "execute_result"
    }
   ],
   "source": [
    "X_train.corr()"
   ]
  },
  {
   "cell_type": "code",
   "execution_count": null,
   "metadata": {},
   "outputs": [],
   "source": []
  },
  {
   "cell_type": "markdown",
   "metadata": {
    "id": "uYt41ACIHXXA"
   },
   "source": [
    "## Feature Scaling Or Standardization"
   ]
  },
  {
   "cell_type": "code",
   "execution_count": 27,
   "metadata": {
    "id": "p3VVEAVeHXXB"
   },
   "outputs": [],
   "source": [
    "from sklearn.preprocessing import StandardScaler\n",
    "scaler=StandardScaler()\n",
    "X_train_scaled=scaler.fit_transform(X_train)\n",
    "X_test_scaled=scaler.transform(X_test)"
   ]
  },
  {
   "cell_type": "code",
   "execution_count": 28,
   "metadata": {
    "id": "5x6sfm5_HXXC",
    "outputId": "96c34ec6-5b44-439e-9de4-a204be0fb7f6"
   },
   "outputs": [
    {
     "data": {
      "text/plain": [
       "array([[-1.08716652, -1.14087456, -0.91749963, ...,  1.75420517,\n",
       "        -0.59001549, -0.57159389],\n",
       "       [-0.80210593, -0.66584152,  0.7436053 , ..., -0.57005875,\n",
       "         1.69487075, -0.57159389],\n",
       "       [ 0.83699246,  1.52879447, -0.08694717, ..., -0.57005875,\n",
       "        -0.59001549,  1.74949385],\n",
       "       ...,\n",
       "       [ 1.33584849, -0.8879673 , -0.91749963, ..., -0.57005875,\n",
       "        -0.59001549, -0.57159389],\n",
       "       [-0.1607196 ,  2.84324666,  0.7436053 , ..., -0.57005875,\n",
       "        -0.59001549,  1.74949385],\n",
       "       [ 1.12205304, -0.10179179, -0.91749963, ..., -0.57005875,\n",
       "        -0.59001549,  1.74949385]])"
      ]
     },
     "execution_count": 28,
     "metadata": {},
     "output_type": "execute_result"
    }
   ],
   "source": [
    "X_train_scaled"
   ]
  },
  {
   "cell_type": "markdown",
   "metadata": {
    "id": "99bItflhHXXC"
   },
   "source": [
    "## Box Plots To understand Effect Of Standard Scaler"
   ]
  },
  {
   "cell_type": "code",
   "execution_count": 29,
   "metadata": {
    "id": "xrAONEtmHXXC",
    "outputId": "883e5de6-8fb1-48c6-c83c-7fe04cbb429a"
   },
   "outputs": [
    {
     "name": "stderr",
     "output_type": "stream",
     "text": [
      "/tmp/ipykernel_1893/160744393.py:2: MatplotlibDeprecationWarning: Auto-removal of overlapping axes is deprecated since 3.6 and will be removed two minor releases later; explicitly call ax.remove() as needed.\n",
      "  plt.subplot(1, 2, 1)\n"
     ]
    },
    {
     "data": {
      "text/plain": [
       "Text(0.5, 1.0, 'X_train After Scaling')"
      ]
     },
     "execution_count": 29,
     "metadata": {},
     "output_type": "execute_result"
    },
    {
     "data": {
      "image/png": "[encoded data removed]",
      "text/plain": [
       "<Figure size 1500x500 with 2 Axes>"
      ]
     },
     "metadata": {},
     "output_type": "display_data"
    }
   ],
   "source": [
    "plt.subplots(figsize=(15, 5))\n",
    "plt.subplot(1, 2, 1)\n",
    "sns.boxplot(data=X_train)\n",
    "plt.title('X_train Before Scaling')\n",
    "plt.subplot(1, 2, 2)\n",
    "sns.boxplot(data=X_train_scaled)\n",
    "plt.title('X_train After Scaling')"
   ]
  },
  {
   "cell_type": "markdown",
   "metadata": {
    "id": "BD0gDnWtHXXD"
   },
   "source": [
    "## Linear Regression Model"
   ]
  },
  {
   "cell_type": "code",
   "execution_count": 30,
   "metadata": {
    "id": "w8iysLQkHXXD",
    "outputId": "2be34b0a-e3ca-48a4-e7d2-180dd7891310"
   },
   "outputs": [
    {
     "name": "stdout",
     "output_type": "stream",
     "text": [
      "Mean absolute error 4240.544160642064\n",
      "R2 Score 0.7673735655029627\n"
     ]
    }
   ],
   "source": [
    "from sklearn.linear_model import LinearRegression\n",
    "from sklearn.metrics import mean_absolute_error\n",
    "from sklearn.metrics import r2_score\n",
    "linreg=LinearRegression()\n",
    "linreg.fit(X_train_scaled,y_train)\n",
    "y_pred=linreg.predict(X_test_scaled)\n",
    "mae=mean_absolute_error(y_test,y_pred)\n",
    "score=r2_score(y_test,y_pred)\n",
    "print(\"Mean absolute error\", mae)\n",
    "print(\"R2 Score\", score)"
   ]
  },
  {
   "cell_type": "code",
   "execution_count": 31,
   "metadata": {
    "id": "BQllvjZYHXXG"
   },
   "outputs": [],
   "source": [
    "import pickle\n",
    "pickle.dump(scaler,open('scaler.pkl','wb'))\n",
    "pickle.dump(linreg,open('linreg.pkl','wb'))"
   ]
  },
  {
   "cell_type": "code",
   "execution_count": null,
   "metadata": {
    "id": "bJhIvZzjHXXG"
   },
   "outputs": [],
   "source": [
    "#33\tmale\t22.705\t0\tno\tnorthwest\t"
   ]
  },
  {
   "cell_type": "code",
   "execution_count": 37,
   "metadata": {
    "id": "FPxeohf3HXXH"
   },
   "outputs": [
    {
     "name": "stdin",
     "output_type": "stream",
     "text": [
      "Enter the Age:  64\n",
      "Enter the bmi:  19\n",
      "Enter the children: 1\n",
      "Enter the gender:       type {male,female} male\n",
      "Are you a Smoker?:     type {yes,no} yes\n",
      "which region ?         type {NE,NW,SE,SW} NE\n"
     ]
    },
    {
     "data": {
      "text/plain": [
       "array([-7.27833555e+16])"
      ]
     },
     "execution_count": 37,
     "metadata": {},
     "output_type": "execute_result"
    }
   ],
   "source": [
    "linreg.predict([check()])"
   ]
  },
  {
   "cell_type": "code",
   "execution_count": null,
   "metadata": {},
   "outputs": [],
   "source": []
  },
  {
   "cell_type": "code",
   "execution_count": 5,
   "metadata": {},
   "outputs": [
    {
     "name": "stdin",
     "output_type": "stream",
     "text": [
      "Enter the Age:  34\n",
      "Enter the bmi:  34\n",
      "Enter the children: 2\n",
      "Enter the gender:       type {male,female} male\n",
      "Are you a Smoker?:     type {yes,no} no\n",
      "which region ?         type {NE,NW,SE,SW} NW\n"
     ]
    },
    {
     "name": "stdout",
     "output_type": "stream",
     "text": [
      "(34, 34, 2, 0, 1, 1, 0, 0, 1, 0, 0)\n"
     ]
    }
   ],
   "source": [
    "def check():\n",
    "    GM = 0\n",
    "    GF = 0\n",
    "    SN = 0\n",
    "    SY = 0\n",
    "    R_NE = 0\n",
    "    R_NW = 0\n",
    "    R_SE = 0\n",
    "    R_SW = 0\n",
    "    age= int(input(\"Enter the Age: \"))\n",
    "    bmi= int(input(\"Enter the bmi: \"))\n",
    "    children= int(input(\"Enter the children:\"))\n",
    "    gender= input(\"Enter the gender:       type {male,female}\")\n",
    "    if gender == \"male\":\n",
    "        GM = 1\n",
    "    else :\n",
    "        GF= 1\n",
    "    Smoker = input(\"Are you a Smoker?:     type {yes,no}\")\n",
    "    if Smoker == \"yes\":\n",
    "        SY = 1\n",
    "    else :\n",
    "        SN = 1    \n",
    "    region = input(\"which region ?         type {NE,NW,SE,SW}\")\n",
    "    if region == \"NE\":\n",
    "        R_NE = 1\n",
    "    if region == \"NW\":\n",
    "        R_NW = 1\n",
    "    if region == \"SE\":\n",
    "        R_SE = 1\n",
    "    if region == \"SW\":\n",
    "        R_SW = 1\n",
    "    return age, bmi, children ,GF,GM,SN,SY,R_NE,R_NW,R_SE,R_SW\n",
    "\n",
    "\n",
    "print(check())"
   ]
  },
  {
   "cell_type": "code",
   "execution_count": null,
   "metadata": {},
   "outputs": [],
   "source": []
  }
 ],
 "metadata": {
  "colab": {
   "provenance": []
  },
  "kernelspec": {
   "display_name": "Python 3 (ipykernel)",
   "language": "python",
   "name": "python3"
  },
  "language_info": {
   "codemirror_mode": {
    "name": "ipython",
    "version": 3
   },
   "file_extension": ".py",
   "mimetype": "text/x-python",
   "name": "python",
   "nbconvert_exporter": "python",
   "pygments_lexer": "ipython3",
   "version": "3.10.8"
  }
 },
 "nbformat": 4,
 "nbformat_minor": 4
}
