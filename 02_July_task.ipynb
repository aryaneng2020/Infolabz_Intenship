{
  "nbformat": 4,
  "nbformat_minor": 0,
  "metadata": {
    "colab": {
      "provenance": []
    },
    "kernelspec": {
      "name": "python3",
      "display_name": "Python 3"
    },
    "language_info": {
      "name": "python"
    }
  },
  "cells": [
    {
      "cell_type": "code",
      "execution_count": 6,
      "metadata": {
        "colab": {
          "base_uri": "https://localhost:8080/"
        },
        "id": "xE88pjsFNBda",
        "outputId": "4aba20a2-81b9-4bce-d132-1cff479845ad"
      },
      "outputs": [
        {
          "output_type": "stream",
          "name": "stdout",
          "text": [
            "   SRNO BRANCH    NAME  TOTAL  PERCENTAGE  PASSFAIL\n",
            "0     1     CE  RAMESH    210          70         1\n",
            "1     2     CE  SURESH    150          50         1\n",
            "2     3     IT  MAHESH    225          75         1\n",
            "3     4     IT  NARESH    180          60         1\n",
            "4     5     CE  JAYESH     90          30         0\n",
            "5     1     EC   RATAN    150          50         1\n",
            "6     2     CE   JATAN    270          90         1\n",
            "7     3     IT  KATHAN    285          95         1\n",
            "8     4     EC   NAYAN    195          65         1\n",
            "9     5     IT   RAMAN    165          55         1\n"
          ]
        }
      ],
      "source": [
        "#Task 1\n",
        "import pandas as pd\n",
        "\n",
        "# Read the two Excel files into Pandas DataFrames\n",
        "df1 = pd.read_excel(\"RESULT1.xlsx\")\n",
        "df2 = pd.read_excel(\"RESULT2.xlsx\")\n",
        "\n",
        "# Merge the two DataFrames\n",
        "df_merged = pd.concat([df1, df2])\n",
        "\n",
        "# Reindex the merged DataFrame\n",
        "df_merged.reset_index(drop=True, inplace=True)\n",
        "\n",
        "# Print the merged DataFrame\n",
        "print(df_merged)\n"
      ]
    },
    {
      "cell_type": "code",
      "source": [
        "# Task 2\n",
        "# Sort the merged dataframe by the 'TOTAL' column in descending order\n",
        "sorted_data = all_data.sort_values(by='TOTAL', ascending=False)\n",
        "\n",
        "# Print the sorted dataframe\n",
        "print(sorted_data)\n"
      ],
      "metadata": {
        "colab": {
          "base_uri": "https://localhost:8080/"
        },
        "id": "oUlSFOLvVPOs",
        "outputId": "d67df2e1-d594-4ec3-cabc-28d4868e979c"
      },
      "execution_count": 7,
      "outputs": [
        {
          "output_type": "stream",
          "name": "stdout",
          "text": [
            "   SRNO BRANCH    NAME  TOTAL  PERCENTAGE  PASSFAIL\n",
            "7     3     IT  KATHAN    285          95         1\n",
            "6     2     CE   JATAN    270          90         1\n",
            "2     3     IT  MAHESH    225          75         1\n",
            "0     1     CE  RAMESH    210          70         1\n",
            "8     4     EC   NAYAN    195          65         1\n",
            "3     4     IT  NARESH    180          60         1\n",
            "9     5     IT   RAMAN    165          55         1\n",
            "1     2     CE  SURESH    150          50         1\n",
            "5     1     EC   RATAN    150          50         1\n",
            "4     5     CE  JAYESH     90          30         0\n"
          ]
        }
      ]
    },
    {
      "cell_type": "code",
      "source": [
        "#Task 3\n",
        "\n",
        "toppers = df_merged.head(3)\n",
        "print(toppers)\n"
      ],
      "metadata": {
        "colab": {
          "base_uri": "https://localhost:8080/"
        },
        "id": "ILJUV6toVPzc",
        "outputId": "49404173-0f94-4bed-b32d-5387647f35c5"
      },
      "execution_count": 8,
      "outputs": [
        {
          "output_type": "stream",
          "name": "stdout",
          "text": [
            "   SRNO BRANCH    NAME  TOTAL  PERCENTAGE  PASSFAIL\n",
            "0     1     CE  RAMESH    210          70         1\n",
            "1     2     CE  SURESH    150          50         1\n",
            "2     3     IT  MAHESH    225          75         1\n"
          ]
        }
      ]
    },
    {
      "cell_type": "code",
      "source": [
        "#Task 4\n",
        "\n",
        "bottom = df_merged.tail(3)\n",
        "print(bottom)"
      ],
      "metadata": {
        "colab": {
          "base_uri": "https://localhost:8080/"
        },
        "id": "oJdiiAuhVPwI",
        "outputId": "625dac02-c435-4b13-dbec-71fc622a72b7"
      },
      "execution_count": 9,
      "outputs": [
        {
          "output_type": "stream",
          "name": "stdout",
          "text": [
            "   SRNO BRANCH    NAME  TOTAL  PERCENTAGE  PASSFAIL\n",
            "7     3     IT  KATHAN    285          95         1\n",
            "8     4     EC   NAYAN    195          65         1\n",
            "9     5     IT   RAMAN    165          55         1\n"
          ]
        }
      ]
    },
    {
      "cell_type": "code",
      "source": [
        "# Task 5\n",
        "\n",
        "filtered_data = df_merged[df_merged['TOTAL'] > 200]\n",
        "print(filtered_data)\n"
      ],
      "metadata": {
        "colab": {
          "base_uri": "https://localhost:8080/"
        },
        "id": "xD5egP__VPs5",
        "outputId": "c525219c-0b9e-43d2-ea68-2107e7531369"
      },
      "execution_count": 10,
      "outputs": [
        {
          "output_type": "stream",
          "name": "stdout",
          "text": [
            "   SRNO BRANCH    NAME  TOTAL  PERCENTAGE  PASSFAIL\n",
            "0     1     CE  RAMESH    210          70         1\n",
            "2     3     IT  MAHESH    225          75         1\n",
            "6     2     CE   JATAN    270          90         1\n",
            "7     3     IT  KATHAN    285          95         1\n"
          ]
        }
      ]
    },
    {
      "cell_type": "code",
      "source": [
        "# Task 6  Print name of the student with highest total\n",
        "\n",
        "student_with_highest_total = df_merged[df_merged['TOTAL'] == df_merged['TOTAL'].max()]['NAME'].values[0]\n",
        "print(f\"Student with highest total: {student_with_highest_total}\")\n"
      ],
      "metadata": {
        "colab": {
          "base_uri": "https://localhost:8080/"
        },
        "id": "27ORH3fVVPnv",
        "outputId": "5aaebf0b-9d74-4643-ae6a-660d89a39653"
      },
      "execution_count": 11,
      "outputs": [
        {
          "output_type": "stream",
          "name": "stdout",
          "text": [
            "Student with highest total: KATHAN\n"
          ]
        }
      ]
    },
    {
      "cell_type": "code",
      "source": [
        "# Task 7  Allow user to insert name of student, print total of that student. If student not available print student not found.\n",
        "\n",
        "def find_student_total(student_name):\n",
        "  try:\n",
        "    student_total = df_merged[df_merged['NAME'] == student_name]['TOTAL'].values[0]\n",
        "    return student_total\n",
        "  except IndexError:\n",
        "    return \"Student not found.\"\n",
        "\n",
        "# Get the student name from the user\n",
        "student_name = input(\"Enter the name of the student: \")\n",
        "\n",
        "# Find the student's total\n",
        "student_total = find_student_total(student_name)\n",
        "\n",
        "# Print the student's total or a message if the student is not found\n",
        "print(student_total)\n"
      ],
      "metadata": {
        "colab": {
          "base_uri": "https://localhost:8080/"
        },
        "id": "ASGhvpQVVPhe",
        "outputId": "4d426af5-86bb-4ce4-e4f0-c8273274c42f"
      },
      "execution_count": 13,
      "outputs": [
        {
          "output_type": "stream",
          "name": "stdout",
          "text": [
            "Enter the name of the student: NARESH\n",
            "180\n"
          ]
        }
      ]
    },
    {
      "cell_type": "code",
      "source": [
        "# Task 8 Print average of total of all students.\n",
        "\n",
        "average_total = df_merged['TOTAL'].mean()\n",
        "print(f\"Average total: {average_total}\")\n"
      ],
      "metadata": {
        "colab": {
          "base_uri": "https://localhost:8080/"
        },
        "id": "rfDs1-Ipa1lE",
        "outputId": "174a4388-2d24-4106-e1c1-5b3bccd6ccbd"
      },
      "execution_count": 14,
      "outputs": [
        {
          "output_type": "stream",
          "name": "stdout",
          "text": [
            "Average total: 192.0\n"
          ]
        }
      ]
    },
    {
      "cell_type": "code",
      "source": [
        "# Task 9 Print all data in alphabetical order of student name.\n",
        "\n",
        "sorted_by_name = df_merged.sort_values(by='NAME', ascending=True)\n",
        "print(sorted_by_name)\n"
      ],
      "metadata": {
        "colab": {
          "base_uri": "https://localhost:8080/"
        },
        "id": "JisqWGqibHJn",
        "outputId": "e5ddc040-0639-4dcf-c12f-186af22c7949"
      },
      "execution_count": 15,
      "outputs": [
        {
          "output_type": "stream",
          "name": "stdout",
          "text": [
            "   SRNO BRANCH    NAME  TOTAL  PERCENTAGE  PASSFAIL\n",
            "6     2     CE   JATAN    270          90         1\n",
            "4     5     CE  JAYESH     90          30         0\n",
            "7     3     IT  KATHAN    285          95         1\n",
            "2     3     IT  MAHESH    225          75         1\n",
            "3     4     IT  NARESH    180          60         1\n",
            "8     4     EC   NAYAN    195          65         1\n",
            "9     5     IT   RAMAN    165          55         1\n",
            "0     1     CE  RAMESH    210          70         1\n",
            "5     1     EC   RATAN    150          50         1\n",
            "1     2     CE  SURESH    150          50         1\n"
          ]
        }
      ]
    },
    {
      "cell_type": "code",
      "source": [
        "# Task 10 Add a new column of percentage (total marks are 300) and display percentage of all students. Save this result as finalresult.csv\n",
        "\n",
        "# Calculate the percentage for each student\n",
        "df_merged['PERCENTAGE'] = (df_merged['TOTAL'] / 300) * 100\n",
        "\n",
        "# Save the result as a CSV file\n",
        "df_merged.to_csv('finalresult.csv', index=False)\n",
        "\n",
        "# Display the percentage of all students\n",
        "print(df_merged['PERCENTAGE'])\n"
      ],
      "metadata": {
        "colab": {
          "base_uri": "https://localhost:8080/"
        },
        "id": "hdB5U435bN2e",
        "outputId": "0b91536a-1ad4-44bd-a90e-196eb8e49860"
      },
      "execution_count": 16,
      "outputs": [
        {
          "output_type": "stream",
          "name": "stdout",
          "text": [
            "0    70.0\n",
            "1    50.0\n",
            "2    75.0\n",
            "3    60.0\n",
            "4    30.0\n",
            "5    50.0\n",
            "6    90.0\n",
            "7    95.0\n",
            "8    65.0\n",
            "9    55.0\n",
            "Name: PERCENTAGE, dtype: float64\n"
          ]
        }
      ]
    },
    {
      "cell_type": "code",
      "source": [],
      "metadata": {
        "id": "hKbV8pocbWyd"
      },
      "execution_count": null,
      "outputs": []
    }
  ]
}